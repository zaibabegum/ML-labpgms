{
 "cells": [
  {
   "cell_type": "code",
   "execution_count": 10,
   "metadata": {},
   "outputs": [
    {
     "name": "stdout",
     "output_type": "stream",
     "text": [
      "['sunny', 'warm', 'normal', 'strong', 'warm', 'same', 'Yes']\n",
      "['sunny', 'warm', 'high', 'strong', 'warm', 'same', 'Yes']\n",
      "['rainy', 'cold', 'high', 'strong', 'warm', 'change', 'No']\n",
      "['sunny', 'warm', 'high', 'strong', 'cool', 'change', 'Yes']\n",
      "['0', '0', '0', '0', '0', '0']\n",
      "['?', '?', '?', '?', '?', '?']\n",
      "................................................\n",
      "['sunny', 'warm', 'normal', 'strong', 'warm', 'same']\n",
      "['?', '?', '?', '?', '?', '?']\n",
      "......................................................................\n",
      "['sunny', 'warm', '?', 'strong', 'warm', 'same']\n",
      "['?', '?', '?', '?', '?', '?']\n",
      "......................................................................\n",
      "['sunny', 'warm', '?', 'strong', 'warm', 'same']\n",
      "[['sunny', '?', '?', '?', '?', '?'], ['?', 'warm', '?', '?', '?', '?'], ['?', '?', '?', '?', '?', 'same']]\n",
      "......................................................................\n",
      "['sunny', 'warm', '?', 'strong', '?', '?']\n",
      "[['sunny', '?', '?', '?', '?', '?'], ['?', 'warm', '?', '?', '?', '?']]\n",
      "......................................................................\n"
     ]
    }
   ],
   "source": [
    "import csv\n",
    "a=[]\n",
    "with open(\"C:\\\\Users\\\\user\\\\OneDrive\\\\Desktop\\\\pgm2.csv\",\"r\") as csvfile:\n",
    "    fdata=csv.reader(csvfile)\n",
    "    for row in fdata:\n",
    "        a.append(row)\n",
    "        print(row)\n",
    "num_att=len(a[0])-1\n",
    "S=['0']*num_att\n",
    "G=['?']*num_att\n",
    "print(S)\n",
    "print(G)\n",
    "temp=[]\n",
    "for i in range(0,num_att):\n",
    "    S[i]=a[0][i]\n",
    "print(\"................................................\")\n",
    "for i in range(0,len(a)):\n",
    "    if a[i][num_att]==\"Yes\":\n",
    "        for j in range(0,num_att):\n",
    "            if S[j]!=a[i][j]:\n",
    "                S[j]='?'\n",
    "        for j in range(0,num_att):\n",
    "            for k in range(0,len(temp)):\n",
    "                if temp[k][j]!=S[j] and temp[k][j]!='?':\n",
    "                    del temp[k]\n",
    "    if a[i][num_att]=='No':\n",
    "        for j in range(0,num_att):\n",
    "            if a[i][j]!=S[j] and S[j]!='?':\n",
    "                G[j]=S[j]\n",
    "                temp.append(G)\n",
    "                G=['?']*num_att\n",
    "    print(S)\n",
    "    if len(temp)==0:\n",
    "        print(G)\n",
    "    else:\n",
    "        print(temp)\n",
    "    print(\"......................................................................\")"
   ]
  },
  {
   "cell_type": "code",
   "execution_count": null,
   "metadata": {},
   "outputs": [],
   "source": []
  }
 ],
 "metadata": {
  "kernelspec": {
   "display_name": "Python 3",
   "language": "python",
   "name": "python3"
  },
  "language_info": {
   "codemirror_mode": {
    "name": "ipython",
    "version": 3
   },
   "file_extension": ".py",
   "mimetype": "text/x-python",
   "name": "python",
   "nbconvert_exporter": "python",
   "pygments_lexer": "ipython3",
   "version": "3.7.1"
  }
 },
 "nbformat": 4,
 "nbformat_minor": 2
}
