{
 "cells": [
  {
   "cell_type": "code",
   "execution_count": 17,
   "metadata": {},
   "outputs": [
    {
     "name": "stdout",
     "output_type": "stream",
     "text": [
      "['sunny', 'warm', 'normal', 'strong', 'warm', 'same', 'Yes']\n",
      "['sunny', 'warm', 'high', 'strong', 'warm', 'same', 'Yes']\n",
      "['rainy', 'cold', 'high', 'strong', 'warm', 'change', 'No']\n",
      "['sunny', 'warm', 'high', 'strong', 'cool', 'change', 'Yes']\n",
      "\n",
      " the total number of training instances are: 4\n",
      "\n",
      " The initial hypothesis:\n",
      "['0', '0', '0', '0', '0', '0']\n",
      "\n",
      " Find-S: finding maximally specific hypothesis\n",
      "\n",
      "\n",
      " for training example No:0 the hypothesis is  ['sunny', 'warm', 'normal', 'strong', 'warm', 'same']\n",
      "\n",
      " for training example No:1 the hypothesis is  ['sunny', 'warm', '?', 'strong', 'warm', 'same']\n",
      "\n",
      " for training example No:2 the hypothesis is  ['sunny', 'warm', '?', 'strong', 'warm', 'same']\n",
      "\n",
      " for training example No:3 the hypothesis is  ['sunny', 'warm', '?', 'strong', '?', '?']\n",
      "\n",
      " the maximally specific hypothesis for training instance is\n",
      "['sunny', 'warm', '?', 'strong', '?', '?']\n"
     ]
    }
   ],
   "source": [
    "import csv\n",
    "num_attribute=6\n",
    "a=[]\n",
    "with open('C:\\\\Users\\\\user\\\\OneDrive\\\\Desktop\\\\pro1.csv','r') as csvfile:\n",
    "    reader=csv.reader(csvfile)\n",
    "    for row in reader:\n",
    "        a.append(row)\n",
    "        print(row)\n",
    "print(\"\\n the total number of training instances are:\",len(a))\n",
    "num_attribute=len(a[0])-1\n",
    "print(\"\\n The initial hypothesis:\")\n",
    "hypothesis=['0']*num_attribute\n",
    "print(hypothesis)\n",
    "for j in range(0,num_attribute):\n",
    "    hypothesis[j]=a[0][j]\n",
    "print(\"\\n Find-S: finding maximally specific hypothesis\\n\")\n",
    "for i in range(0,len(a)):\n",
    "    if a[i][num_attribute]=='Yes':\n",
    "        for j in range(0,num_attribute):\n",
    "            if a[i][j]!=hypothesis[j]:\n",
    "                hypothesis[j]='?'\n",
    "            else:\n",
    "                hypothesis[j]=a[i][j]\n",
    "    print(\"\\n for training example No:{0} the hypothesis is \".format(i),hypothesis)\n",
    "print(\"\\n the maximally specific hypothesis for training instance is\")\n",
    "print(hypothesis)\n",
    "                "
   ]
  },
  {
   "cell_type": "code",
   "execution_count": null,
   "metadata": {},
   "outputs": [],
   "source": []
  },
  {
   "cell_type": "code",
   "execution_count": null,
   "metadata": {},
   "outputs": [],
   "source": []
  }
 ],
 "metadata": {
  "kernelspec": {
   "display_name": "Python 3",
   "language": "python",
   "name": "python3"
  },
  "language_info": {
   "codemirror_mode": {
    "name": "ipython",
    "version": 3
   },
   "file_extension": ".py",
   "mimetype": "text/x-python",
   "name": "python",
   "nbconvert_exporter": "python",
   "pygments_lexer": "ipython3",
   "version": "3.7.1"
  }
 },
 "nbformat": 4,
 "nbformat_minor": 2
}
